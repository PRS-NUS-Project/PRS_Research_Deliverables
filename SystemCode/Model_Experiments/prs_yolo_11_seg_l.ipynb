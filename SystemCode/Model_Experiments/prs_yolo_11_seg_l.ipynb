{
  "cells": [
    {
      "cell_type": "markdown",
      "metadata": {
        "id": "yiGkDmlEa7wZ"
      },
      "source": [
        "# 1. Install YOLO package (seg models included in ultralytics-style API)"
      ]
    },
    {
      "cell_type": "code",
      "execution_count": null,
      "metadata": {
        "colab": {
          "base_uri": "https://localhost:8080/"
        },
        "id": "L1KryYfZ4isn",
        "outputId": "7bdcea7f-223a-4e30-d5f3-eb6e5925dc09"
      },
      "outputs": [
        {
          "output_type": "stream",
          "name": "stdout",
          "text": [
            "\u001b[?25l   \u001b[90m━━━━━━━━━━━━━━━━━━━━━━━━━━━━━━━━━━━━━━━━\u001b[0m \u001b[32m0.0/1.1 MB\u001b[0m \u001b[31m?\u001b[0m eta \u001b[36m-:--:--\u001b[0m\r\u001b[2K   \u001b[90m━━━━━━━━━━━━━━━━━━━━━━━━━━━━━━━━━━━━━━━━\u001b[0m \u001b[32m1.1/1.1 MB\u001b[0m \u001b[31m68.5 MB/s\u001b[0m eta \u001b[36m0:00:00\u001b[0m\n",
            "\u001b[?25h"
          ]
        }
      ],
      "source": [
        "!pip install -q ultralytics"
      ]
    },
    {
      "cell_type": "markdown",
      "metadata": {
        "id": "Rl2VY_0mbDgD"
      },
      "source": [
        "# 2. Imports"
      ]
    },
    {
      "cell_type": "code",
      "execution_count": null,
      "metadata": {
        "colab": {
          "base_uri": "https://localhost:8080/"
        },
        "id": "6uXylswFbENn",
        "outputId": "149c5742-b3f4-4110-f9c6-78363b3c033b"
      },
      "outputs": [
        {
          "output_type": "stream",
          "name": "stdout",
          "text": [
            "Creating new Ultralytics Settings v0.0.6 file ✅ \n",
            "View Ultralytics Settings with 'yolo settings' or at '/root/.config/Ultralytics/settings.json'\n",
            "Update Settings with 'yolo settings key=value', i.e. 'yolo settings runs_dir=path/to/dir'. For help see https://docs.ultralytics.com/quickstart/#ultralytics-settings.\n"
          ]
        }
      ],
      "source": [
        "import os, glob, time, json, math, gc, platform, inspect, zipfile\n",
        "import torch\n",
        "from ultralytics import YOLO"
      ]
    },
    {
      "cell_type": "markdown",
      "metadata": {
        "id": "PC03TtmvbO4z"
      },
      "source": [
        "# 3. Environment / device info"
      ]
    },
    {
      "cell_type": "code",
      "execution_count": null,
      "metadata": {
        "colab": {
          "base_uri": "https://localhost:8080/"
        },
        "id": "_cBKj0ZQbPXg",
        "outputId": "29ec971f-3f5d-4b82-8492-b688ce086afa"
      },
      "outputs": [
        {
          "output_type": "stream",
          "name": "stdout",
          "text": [
            "PyTorch: 2.8.0+cu126 | CUDA: True\n",
            "GPU: NVIDIA A100-SXM4-80GB\n"
          ]
        }
      ],
      "source": [
        "print(\"PyTorch:\", torch.__version__, \"| CUDA:\", torch.cuda.is_available())\n",
        "if torch.cuda.is_available():\n",
        "    print(\"GPU:\", torch.cuda.get_device_name(0))\n",
        "else:\n",
        "    print(\"WARNING: Training on CPU will be extremely slow.\")"
      ]
    },
    {
      "cell_type": "markdown",
      "metadata": {
        "id": "7I4XanRIcc5S"
      },
      "source": [
        "# 4. Load the base model we want to fine-tune\n",
        "'yolo11-seg-m' here means:\n",
        "- version 11 architecture\n",
        "- task = segmentation\n",
        "- size = medium"
      ]
    },
    {
      "cell_type": "code",
      "execution_count": null,
      "metadata": {
        "colab": {
          "base_uri": "https://localhost:8080/"
        },
        "id": "nhoriX6gbReB",
        "outputId": "cffbfc31-2adf-491e-99be-b9b13d47b634"
      },
      "outputs": [
        {
          "output_type": "stream",
          "name": "stdout",
          "text": [
            "\u001b[KDownloading https://github.com/ultralytics/assets/releases/download/v8.3.0/yolo11l-seg.pt to 'yolo11l-seg.pt': 100% ━━━━━━━━━━━━ 53.5MB 28.4MB/s 1.9s\n"
          ]
        }
      ],
      "source": [
        "model = YOLO(\"yolo11l-seg.pt\")"
      ]
    },
    {
      "cell_type": "code",
      "execution_count": null,
      "metadata": {
        "id": "A7W3aPbjcmum",
        "collapsed": true
      },
      "outputs": [],
      "source": [
        "from google.colab import files\n",
        "import os, zipfile, glob\n",
        "\n",
        "YOLO_ROOT = \"/content/data_yolo\"\n",
        "os.makedirs(YOLO_ROOT, exist_ok=True)\n",
        "\n",
        "print(\"📦 Choose your dataset .zip…\")\n",
        "uploaded = files.upload()\n",
        "assert uploaded, \"No file uploaded.\"\n",
        "zip_name = next(iter(uploaded))\n",
        "zip_path = f\"/content/{zip_name}\"\n",
        "\n",
        "print(\"🔓 Unzipping…\")\n",
        "with zipfile.ZipFile(zip_path, 'r') as zf:\n",
        "    zf.extractall(YOLO_ROOT)"
      ]
    },
    {
      "cell_type": "code",
      "source": [
        "def find_yolo_root(root):\n",
        "    hits = []\n",
        "    for dirpath, dirnames, filenames in os.walk(root):\n",
        "        # check that we have train/valid[/test] with images+labels subfolders\n",
        "        if all(os.path.isdir(os.path.join(dirpath, s)) for s in (\"train\",\"valid\")):\n",
        "            ok = True\n",
        "            for s in (\"train\",\"valid\"):\n",
        "                img_dir = os.path.join(dirpath, s, \"images\")\n",
        "                lab_dir = os.path.join(dirpath, s, \"labels\")\n",
        "                if not (os.path.isdir(img_dir) and os.path.isdir(lab_dir)):\n",
        "                    ok = False\n",
        "                    break\n",
        "            if ok:\n",
        "                hits.append(dirpath)\n",
        "    return sorted(hits, key=len)\n",
        "\n",
        "cands = find_yolo_root(YOLO_ROOT)\n",
        "assert cands, \"Could not find YOLO-style dataset with train/valid/images+labels\"\n",
        "DATASET_DIR = cands[0]\n",
        "print(\"✅ YOLO dataset root:\", DATASET_DIR)\n",
        "\n",
        "# Quick stats\n",
        "for split in (\"train\",\"valid\",\"test\"):\n",
        "    img_dir = os.path.join(DATASET_DIR, split, \"images\")\n",
        "    lab_dir = os.path.join(DATASET_DIR, split, \"labels\")\n",
        "    if os.path.isdir(img_dir):\n",
        "        imgs = glob.glob(os.path.join(img_dir, \"*\"))\n",
        "        labs = glob.glob(os.path.join(lab_dir, \"*.txt\"))\n",
        "        print(f\"{split}: {len(imgs)} images | {len(labs)} labels\")"
      ],
      "metadata": {
        "colab": {
          "base_uri": "https://localhost:8080/"
        },
        "id": "fofRD5cFFC9Q",
        "outputId": "2926048d-90c1-43e4-cd1f-16622d78e79b"
      },
      "execution_count": null,
      "outputs": [
        {
          "output_type": "stream",
          "name": "stdout",
          "text": [
            "✅ YOLO dataset root: /content/data_yolo\n",
            "train: 14965 images | 14965 labels\n",
            "valid: 213 images | 213 labels\n",
            "test: 213 images | 213 labels\n"
          ]
        }
      ]
    },
    {
      "cell_type": "code",
      "execution_count": null,
      "metadata": {
        "id": "HoizsFB25Tx2",
        "colab": {
          "base_uri": "https://localhost:8080/"
        },
        "outputId": "cca70dee-1f99-4074-87d7-36fed153d4a1"
      },
      "outputs": [
        {
          "output_type": "stream",
          "name": "stdout",
          "text": [
            "{'epochs': 100, 'per_gpu_batch': 16, 'grad_accum': 1, 'effective_batch': 16, 'img_size': 640, 'num_workers': 4, 'project': '/content/drive/MyDrive/yolo11l_runs_WOCIMB'}\n"
          ]
        }
      ],
      "source": [
        "# ===============================\n",
        "# YOLOv11-seg Hyperparameter Setup\n",
        "# ===============================\n",
        "import math, torch, os\n",
        "\n",
        "# Target effective batch (total)\n",
        "EFF_BATCH = 16\n",
        "\n",
        "def suggest_per_gpu_batch():\n",
        "    if not torch.cuda.is_available():\n",
        "        return 2\n",
        "    props = torch.cuda.get_device_properties(0)\n",
        "    vram_gb = props.total_memory / (1024 ** 3)\n",
        "    if vram_gb >= 30:      # A100\n",
        "        return 16          # YOLO is lighter, can go higher\n",
        "    elif vram_gb >= 20:\n",
        "        return 8\n",
        "    elif vram_gb >= 12:\n",
        "        return 4\n",
        "    else:\n",
        "        return 2\n",
        "\n",
        "PER_GPU_BATCH = suggest_per_gpu_batch()\n",
        "GRAD_ACCUM = math.ceil(EFF_BATCH / PER_GPU_BATCH)\n",
        "\n",
        "EPOCHS = 100\n",
        "IMG_SIZE = 640\n",
        "NUM_WORKERS = min(os.cpu_count(), 4)\n",
        "PROJECT = \"/content/drive/MyDrive/yolo11l_runs_WOCIMB\"\n",
        "os.makedirs(PROJECT, exist_ok=True)\n",
        "\n",
        "print({\n",
        "    \"epochs\": EPOCHS,\n",
        "    \"per_gpu_batch\": PER_GPU_BATCH,\n",
        "    \"grad_accum\": GRAD_ACCUM,\n",
        "    \"effective_batch\": PER_GPU_BATCH * GRAD_ACCUM,\n",
        "    \"img_size\": IMG_SIZE,\n",
        "    \"num_workers\": NUM_WORKERS,\n",
        "    \"project\": PROJECT\n",
        "})"
      ]
    },
    {
      "cell_type": "markdown",
      "metadata": {
        "id": "dgg0pK0lsuHT"
      },
      "source": [
        "# Start training"
      ]
    },
    {
      "cell_type": "code",
      "execution_count": null,
      "metadata": {
        "id": "4t2s3fjbsumh"
      },
      "outputs": [],
      "source": [
        "results = model.train(\n",
        "    data=\"/content/data_yolo/data.yaml\",  # your converted dataset\n",
        "    epochs=EPOCHS,\n",
        "    imgsz=IMG_SIZE,\n",
        "    batch=PER_GPU_BATCH,\n",
        "    project=PROJECT,\n",
        "    name=\"yolo11_seg_l\",\n",
        "    # fl_gamma=1.5,     # focal loss\n",
        "        cls=1.5,\n",
        "    workers=NUM_WORKERS,\n",
        ")"
      ]
    },
    {
      "cell_type": "code",
      "execution_count": null,
      "metadata": {
        "id": "3GL5PxUyBEGj"
      },
      "outputs": [],
      "source": [
        "# Evaluate the model on the validation set\n",
        "metrics = model.val()\n",
        "\n",
        "# Save the evaluation metrics to a file\n",
        "metrics_path = os.path.join(PROJECT, \"yolo11_seg_l\", \"metrics.json\")\n",
        "with open(metrics_path, \"w\") as f:\n",
        "    json.dump(metrics.results_dict, f)\n",
        "\n",
        "print(f\"Evaluation metrics saved to: {metrics_path}\")\n",
        "\n",
        "# The best model weight is saved automatically during training in the runs directory\n",
        "# The path to the best model is typically in PROJECT/name/weights/best.pt\n",
        "best_model_path = os.path.join(PROJECT, \"yolo11_seg_l\", \"weights\", \"best.pt\")\n",
        "print(f\"Best model weight saved to: {best_model_path}\")"
      ]
    },
    {
      "cell_type": "markdown",
      "metadata": {
        "id": "Wz7ab19uzWWQ"
      },
      "source": [
        "##Detailed Evaluation metrics report code, can be run after the model weights are saved. This template can be used for all the models"
      ]
    },
    {
      "cell_type": "code",
      "execution_count": null,
      "metadata": {
        "id": "gM_CNxENEdFC"
      },
      "outputs": [],
      "source": [
        "# ==========================\n",
        "# Evaluate ONE YOLOv11-seg model + save metrics\n",
        "# ==========================\n",
        "!pip -q install ultralytics>=8.3.0\n",
        "\n",
        "import os, csv, json, time\n",
        "from pathlib import Path\n",
        "from ultralytics import YOLO\n",
        "\n",
        "# ---------- CONFIG (edit) ----------\n",
        "WEIGHTS   = \"/content/runs/segment/yolo11m-seg/weights/best.pt\"   # model to evaluate\n",
        "DATA_YAML = \"/content/data_yolo/data.yaml\"                        # your dataset yaml\n",
        "SPLIT     = \"test\"                                                # \"val\" or \"test\"\n",
        "IMGSZ     = 640\n",
        "DEVICE    = 0                                                     # GPU id or \"cpu\"\n",
        "# -----------------------------------\n",
        "\n",
        "EVALS_DIR = Path(\"/content/evals\"); EVALS_DIR.mkdir(parents=True, exist_ok=True)\n",
        "CSV_PATH  = EVALS_DIR / \"yolo11-lseg_metrics.csv\"                   # cumulative log\n",
        "\n",
        "run_name  = Path(WEIGHTS).parent.parent.name + \"_\" + Path(WEIGHTS).stem  # e.g., yolo11m-seg_best\n",
        "model     = YOLO(WEIGHTS)\n",
        "\n",
        "print(f\"Evaluating {WEIGHTS} on {SPLIT}…\")\n",
        "res = model.val(\n",
        "    data=DATA_YAML,\n",
        "    split=SPLIT,\n",
        "    imgsz=IMGSZ,\n",
        "    device=DEVICE,\n",
        "    workers=8,\n",
        "    save_json=True,     # COCO predictions.json\n",
        "    plots=True,         # confusion matrix, PR, etc. saved under runs/…\n",
        "    project=PROJECT,\n",
        "    name=f\"eval_{run_name}\",\n",
        ")\n",
        "\n",
        "# ---- Safely pull out metrics (seg + box) ----\n",
        "def get(obj, attr, default=float(\"nan\")):\n",
        "    try:\n",
        "        val = getattr(obj, attr)\n",
        "        return float(val) if isinstance(val, (int, float)) else val\n",
        "    except Exception:\n",
        "        return default\n",
        "\n",
        "seg = getattr(res, \"seg\", None)\n",
        "box = getattr(res, \"box\", None)\n",
        "\n",
        "metrics_row = {\n",
        "    \"timestamp\": time.strftime(\"%Y-%m-%d %H:%M:%S\"),\n",
        "    \"run_name\": run_name,\n",
        "    \"weights\": str(WEIGHTS),\n",
        "    \"split\": SPLIT,\n",
        "    \"imgsz\": IMGSZ,\n",
        "\n",
        "    # Segmentation metrics\n",
        "    \"seg_map_50_95\": get(seg, \"map\"),\n",
        "    \"seg_map_50\":    get(seg, \"map50\"),\n",
        "    \"seg_mp\":        get(seg, \"mp\"),\n",
        "    \"seg_mr\":        get(seg, \"mr\"),\n",
        "\n",
        "    # Detection (boxes) metrics (sometimes also computed in seg tasks)\n",
        "    \"box_map_50_95\": get(box, \"map\"),\n",
        "    \"box_map_50\":    get(box, \"map50\"),\n",
        "    \"box_mp\":        get(box, \"mp\"),\n",
        "    \"box_mr\":        get(box, \"mr\"),\n",
        "\n",
        "    # Speed (ms per image, averaged)\n",
        "    \"speed_preprocess_ms\": getattr(res, \"speed\", {}).get(\"preprocess\", float(\"nan\")),\n",
        "    \"speed_inference_ms\":  getattr(res, \"speed\", {}).get(\"inference\", float(\"nan\")),\n",
        "    \"speed_postprocess_ms\":getattr(res, \"speed\", {}).get(\"postprocess\", float(\"nan\")),\n",
        "}\n",
        "\n",
        "# ---- Save CSV (append) ----\n",
        "header = list(metrics_row.keys())\n",
        "write_header = not CSV_PATH.exists()\n",
        "with open(CSV_PATH, \"a\", newline=\"\") as f:\n",
        "    w = csv.DictWriter(f, fieldnames=header)\n",
        "    if write_header: w.writeheader()\n",
        "    w.writerow(metrics_row)\n",
        "\n",
        "print(f\"\\nSaved summary → {CSV_PATH}\")\n",
        "\n",
        "# ---- Save detailed per-class AP as JSON (if available) ----\n",
        "# Ultralytics exposes per-class AP array at .maps; we map it to class names from data.yaml\n",
        "import yaml\n",
        "with open(DATA_YAML, \"r\") as f:\n",
        "    names = yaml.safe_load(f)[\"names\"]\n",
        "\n",
        "detail = {\n",
        "    \"run_name\": run_name,\n",
        "    \"weights\": str(WEIGHTS),\n",
        "    \"split\": SPLIT,\n",
        "    \"seg\": {\n",
        "        \"map_50_95\": metrics_row[\"seg_map_50_95\"],\n",
        "        \"map_50\":    metrics_row[\"seg_map_50\"],\n",
        "        \"per_class_ap_50_95\": (\n",
        "            dict(zip(names, getattr(seg, \"maps\", []))) if getattr(seg, \"maps\", None) is not None else {}\n",
        "        ),\n",
        "    },\n",
        "    \"box\": {\n",
        "        \"map_50_95\": metrics_row[\"box_map_50_95\"],\n",
        "        \"map_50\":    metrics_row[\"box_map_50\"],\n",
        "        \"per_class_ap_50_95\": (\n",
        "            dict(zip(names, getattr(box, \"maps\", []))) if getattr(box, \"maps\", None) is not None else {}\n",
        "        ),\n",
        "    },\n",
        "    \"speed_ms\": {\n",
        "        \"preprocess\": metrics_row[\"speed_preprocess_ms\"],\n",
        "        \"inference\":  metrics_row[\"speed_inference_ms\"],\n",
        "        \"postprocess\":metrics_row[\"speed_postprocess_ms\"],\n",
        "    },\n",
        "}\n",
        "\n",
        "json_path = EVALS_DIR / f\"{run_name}_details.json\"\n",
        "with open(json_path, \"w\") as f:\n",
        "    json.dump(detail, f, indent=2)\n",
        "print(f\"Saved details → {json_path}\")\n",
        "\n",
        "print(\"\\nDone. Plots & COCO JSON are under:\")\n",
        "print(Path(\"runs/segment\") / f\"eval_{run_name}\")\n"
      ]
    },
    {
      "cell_type": "code",
      "execution_count": null,
      "metadata": {
        "id": "0WH1PopbM0aw",
        "colab": {
          "base_uri": "https://localhost:8080/",
          "height": 72
        },
        "outputId": "3c90bb89-1461-413b-cd31-78bb0633335c"
      },
      "outputs": [
        {
          "output_type": "stream",
          "name": "stdout",
          "text": [
            "Zipped /content/drive/MyDrive/yolo11l_runs_WOCIMB to /content/drive/MyDrive/yolo11l_runs_WOCIMB.zip\n"
          ]
        },
        {
          "output_type": "display_data",
          "data": {
            "text/plain": [
              "<IPython.core.display.Javascript object>"
            ],
            "application/javascript": [
              "\n",
              "    async function download(id, filename, size) {\n",
              "      if (!google.colab.kernel.accessAllowed) {\n",
              "        return;\n",
              "      }\n",
              "      const div = document.createElement('div');\n",
              "      const label = document.createElement('label');\n",
              "      label.textContent = `Downloading \"${filename}\": `;\n",
              "      div.appendChild(label);\n",
              "      const progress = document.createElement('progress');\n",
              "      progress.max = size;\n",
              "      div.appendChild(progress);\n",
              "      document.body.appendChild(div);\n",
              "\n",
              "      const buffers = [];\n",
              "      let downloaded = 0;\n",
              "\n",
              "      const channel = await google.colab.kernel.comms.open(id);\n",
              "      // Send a message to notify the kernel that we're ready.\n",
              "      channel.send({})\n",
              "\n",
              "      for await (const message of channel.messages) {\n",
              "        // Send a message to notify the kernel that we're ready.\n",
              "        channel.send({})\n",
              "        if (message.buffers) {\n",
              "          for (const buffer of message.buffers) {\n",
              "            buffers.push(buffer);\n",
              "            downloaded += buffer.byteLength;\n",
              "            progress.value = downloaded;\n",
              "          }\n",
              "        }\n",
              "      }\n",
              "      const blob = new Blob(buffers, {type: 'application/binary'});\n",
              "      const a = document.createElement('a');\n",
              "      a.href = window.URL.createObjectURL(blob);\n",
              "      a.download = filename;\n",
              "      div.appendChild(a);\n",
              "      a.click();\n",
              "      div.remove();\n",
              "    }\n",
              "  "
            ]
          },
          "metadata": {}
        },
        {
          "output_type": "display_data",
          "data": {
            "text/plain": [
              "<IPython.core.display.Javascript object>"
            ],
            "application/javascript": [
              "download(\"download_3301bac7-5217-474f-9f7d-2779366771c2\", \"yolo11l_runs_WOCIMB.zip\", 118506726)"
            ]
          },
          "metadata": {}
        }
      ],
      "source": [
        "import zipfile\n",
        "import os\n",
        "from google.colab import files\n",
        "\n",
        "folder_to_zip = \"/content/drive/MyDrive/yolo11l_runs_WOCIMB\"\n",
        "output_zip = \"/content/drive/MyDrive/yolo11l_runs_WOCIMB.zip\"\n",
        "\n",
        "with zipfile.ZipFile(output_zip, 'w', zipfile.ZIP_DEFLATED) as zf:\n",
        "    for root, dirs, files_in_dir in os.walk(folder_to_zip):\n",
        "        for file in files_in_dir:\n",
        "            file_path = os.path.join(root, file)\n",
        "            arcname = os.path.relpath(file_path, folder_to_zip)\n",
        "            zf.write(file_path, arcname)\n",
        "\n",
        "print(f\"Zipped {folder_to_zip} to {output_zip}\")\n",
        "\n",
        "files.download(output_zip)"
      ]
    }
  ],
  "metadata": {
    "accelerator": "GPU",
    "colab": {
      "gpuType": "A100",
      "machine_shape": "hm",
      "provenance": []
    },
    "kernelspec": {
      "display_name": "Python 3",
      "name": "python3"
    },
    "language_info": {
      "name": "python"
    }
  },
  "nbformat": 4,
  "nbformat_minor": 0
}